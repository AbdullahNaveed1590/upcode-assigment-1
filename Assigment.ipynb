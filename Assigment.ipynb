{
 "cells": [
  {
   "cell_type": "code",
   "execution_count": 2,
   "metadata": {},
   "outputs": [
    {
     "name": "stdout",
     "output_type": "stream",
     "text": [
      "This shape is a shape rectangle.\n"
     ]
    }
   ],
   "source": [
    "length = float(input(\"Enter the length of the shape: \"))\n",
    "breadth = float(input(\"Enter the breadth of the shape: \"))\n",
    "\n",
    "\n",
    "if length == breadth:\n",
    "    shape_name = \"square\"\n",
    "else:\n",
    "    shape_name = \"rectangle\"\n",
    "\n",
    "\n",
    "print(\"This shape is a shape \" + shape_name + \".\")\n"
   ]
  },
  {
   "cell_type": "code",
   "execution_count": 3,
   "metadata": {},
   "outputs": [
    {
     "name": "stdout",
     "output_type": "stream",
     "text": [
      "The rectangle has Perimeter: 18.0 and Area: 20.0\n"
     ]
    }
   ],
   "source": [
    "length = float(input(\"Enter the length of the shape: \"))\n",
    "breadth = float(input(\"Enter the breadth of the shape: \"))\n",
    "\n",
    "if length == breadth:\n",
    "    shape_name = \"square\"\n",
    "else:\n",
    "    shape_name = \"rectangle\"\n",
    "\n",
    "perimeter = 2 * (length + breadth)\n",
    "area = length * breadth\n",
    "\n",
    "perimeter = str(perimeter)\n",
    "area = str(area)\n",
    "print(\"The \" + shape_name + \" has Perimeter: \" + perimeter + \" and Area: \" + area)"
   ]
  },
  {
   "cell_type": "code",
   "execution_count": 4,
   "metadata": {},
   "outputs": [
    {
     "name": "stdout",
     "output_type": "stream",
     "text": [
      "Cofounders list: ['Usman', 'Saifullah']\n",
      "Updated faculty list: ['Uzair', 'Ali', 'Samad']\n"
     ]
    }
   ],
   "source": [
    "\n",
    "Cofounders = []\n",
    "\n",
    "\n",
    "faculty = [\"Uzair\", \"Ali\", \"Samad\", \"Usman\", \"Saifullah\"]\n",
    "\n",
    "for name in faculty:\n",
    "    if name == \"Usman\" or name == \"Saifullah\":\n",
    "        Cofounders.append(name)\n",
    "\n",
    "faculty = [name for name in faculty if name != \"Usman\" and name != \"Saifullah\"]\n",
    "\n",
    "print(\"Cofounders list:\", Cofounders)\n",
    "print(\"Updated faculty list:\", faculty)\n"
   ]
  },
  {
   "cell_type": "code",
   "execution_count": 5,
   "metadata": {},
   "outputs": [
    {
     "name": "stdout",
     "output_type": "stream",
     "text": [
      "['Uzair', 'umair', 'Samad', 'Usman', 'Saifullah']\n"
     ]
    }
   ],
   "source": [
    "\n",
    "faculty = [\"Uzair\", \"Ali\", \"Samad\", \"Usman\", \"Saifullah\"]\n",
    " \n",
    "faculty.insert(1, \"umair\")\n",
    "del faculty[2]\n",
    "\n",
    "\n",
    "\n",
    "\n",
    "print(faculty)\n"
   ]
  }
 ],
 "metadata": {
  "kernelspec": {
   "display_name": "Python 3",
   "language": "python",
   "name": "python3"
  },
  "language_info": {
   "codemirror_mode": {
    "name": "ipython",
    "version": 3
   },
   "file_extension": ".py",
   "mimetype": "text/x-python",
   "name": "python",
   "nbconvert_exporter": "python",
   "pygments_lexer": "ipython3",
   "version": "3.11.6"
  }
 },
 "nbformat": 4,
 "nbformat_minor": 2
}
